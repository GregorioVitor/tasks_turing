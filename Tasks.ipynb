{
 "cells": [
  {
   "cell_type": "code",
   "execution_count": 3,
   "metadata": {},
   "outputs": [],
   "source": [
    "import pandas as pd\n",
    "import numpy as np"
   ]
  },
  {
   "cell_type": "code",
   "execution_count": 63,
   "metadata": {},
   "outputs": [
    {
     "name": "stderr",
     "output_type": "stream",
     "text": [
      "C:\\Users\\vitor\\AppData\\Local\\Temp\\ipykernel_74076\\1188166265.py:1: DtypeWarning: Columns (68) have mixed types. Specify dtype option on import or set low_memory=False.\n",
      "  df_listing = pd.read_csv('listings 2 reduced.csv')\n"
     ]
    }
   ],
   "source": [
    "df_listing = pd.read_csv('listings 2 reduced.csv')\n",
    "df_review = pd.read_csv('reviews 2 reduced.csv')"
   ]
  },
  {
   "cell_type": "code",
   "execution_count": null,
   "metadata": {},
   "outputs": [],
   "source": [
    "df_listing['host_is_superhost'] = df_listing['host_is_superhost'].map({'t': 1, 'f': 0})\n",
    "df_listing['price'] = df_listing['price'].str.replace('$', '')\n",
    "df_listing['price'] = df_listing['price'].str.replace(',', '')\n",
    "df_listing['price'] = df_listing['price'].astype(float)\n",
    "df_listing['price'] = df_listing['price'].fillna(0)\n"
   ]
  },
  {
   "cell_type": "code",
   "execution_count": null,
   "metadata": {},
   "outputs": [
    {
     "name": "stdout",
     "output_type": "stream",
     "text": [
      "task1\n",
      "Westminster\n"
     ]
    }
   ],
   "source": [
    "# task1 maior diferença entre super host e não super host entre bairros\n",
    "df_listing_avg = df_listing.groupby(['neighbourhood_cleansed', 'host_is_superhost'])['price'].median().unstack()\n",
    "df_listing_avg['diff'] = df_listing_avg[1] - df_listing_avg[0]\n",
    "df_listing_avg = df_listing_avg.sort_values(by='diff', ascending=False)\n",
    "print('task1')\n",
    "print(df_listing_avg.index[0])"
   ]
  },
  {
   "cell_type": "code",
   "execution_count": null,
   "metadata": {},
   "outputs": [
    {
     "data": {
      "text/plain": [
       "'review_scores_location'"
      ]
     },
     "execution_count": 117,
     "metadata": {},
     "output_type": "execute_result"
    }
   ],
   "source": [
    "# task2 maior correlação entre preço e reviews\n",
    "corr = df_listing[['review_scores_rating', 'review_scores_accuracy',\n",
    "       'review_scores_cleanliness', 'review_scores_checkin',\n",
    "       'review_scores_communication', 'review_scores_location',\n",
    "       'review_scores_value', 'price']].corr(method= 'spearman')\n",
    "corr = abs(corr)\n",
    "corr = corr['price'].sort_values(ascending=False)\n",
    "print('task2')\n",
    "print(corr.index[1])\n"
   ]
  },
  {
   "cell_type": "code",
   "execution_count": null,
   "metadata": {},
   "outputs": [
    {
     "name": "stdout",
     "output_type": "stream",
     "text": [
      "task3\n",
      "106.61537933847524\n"
     ]
    }
   ],
   "source": [
    "# task3 what is the average price difference between a professional host and a non-professional one? Consider a host as professional if they listings in more than 5 different locations (location is defined by the 'neighbourhood_cleansed' column).\n",
    "\n",
    "df_listing_prof = df_listing.groupby('host_id')['neighbourhood_cleansed'].nunique()\n",
    "df_listing_prof = df_listing_prof[df_listing_prof > 5]\n",
    "df_listing_prof = df_listing_prof.to_frame().reset_index()\n",
    "df_listing_prof = df_listing_prof.merge(df_listing, on='host_id')\n",
    "df_listing_prof_avg = df_listing_prof.groupby('host_is_superhost')['price'].mean()\n",
    "df_listing_prof_avg = abs(df_listing_prof_avg[1] - df_listing_prof_avg[0])\n",
    "print('task3')\n",
    "print(df_listing_prof_avg)\n",
    "\n",
    "\n"
   ]
  },
  {
   "cell_type": "code",
   "execution_count": null,
   "metadata": {},
   "outputs": [
    {
     "name": "stdout",
     "output_type": "stream",
     "text": [
      "task4\n",
      "127.33333333333333\n"
     ]
    }
   ],
   "source": [
    "# task4 What is the median price premium given to entire homes / entire apartments with respect to other listings of the same neighborhood? Report the average across all neighborhoods. Use the 'room_type' column in the listings dataset to identify entire homes / entire apartments.\n",
    "\n",
    "\n",
    "df_listing['room_type'] = df_listing['room_type'].map({'Entire home/apt': 'Entire home/apt', 'Private room': 'Private room', 'Shared room': 'Shared room', 'Hotel room': 'Hotel room'})\n",
    "df_listing_room = df_listing.groupby(['neighbourhood_cleansed', 'room_type'])['price'].median().unstack()\n",
    "df_listing_room['diff'] = abs(df_listing_room['Entire home/apt'] - df_listing_room['Private room'] - df_listing_room['Shared room'] - df_listing_room['Hotel room'])\n",
    "df_listing_room_avg = df_listing_room['diff'].mean()\n",
    "print('task4')\n",
    "print(df_listing_room_avg)\n",
    "\n",
    "\n"
   ]
  },
  {
   "cell_type": "code",
   "execution_count": null,
   "metadata": {},
   "outputs": [
    {
     "name": "stdout",
     "output_type": "stream",
     "text": [
      "6611450.0\n"
     ]
    }
   ],
   "source": [
    "# task5 What is the listing with the best expected revenue based on the last 12 mounths, considering 60% of guests leave reviews and every guest will stay only the minimum number of nights? Use both the 'listing' and 'reviews' datasets to answer this question and only use listing with minimum nights of stay <= 7. The minimum_nights column indicates the required minimum number of nights of stay for any listing\n",
    "df_listing_minimum = df_listing[df_listing['minimum_nights'] <= 7]\n",
    "df_review['date'] = pd.to_datetime(df_review['date'])\n",
    "max_date = df_review['date'].max()\n",
    "one_year_ago = max_date - pd.DateOffset(months=12)\n",
    "df_last_12_months = df_review[df_review['date'] >= one_year_ago]\n",
    "\n",
    "df_last_12_months = df_last_12_months.groupby('listing_id').size().reset_index(name='num_reviews')\n",
    "df_last_12_months['estimated_bookings'] = df_last_12_months['num_reviews'] / 0.6\n",
    "listings = df_listing[['id', 'price', 'minimum_nights']]\n",
    "listings = listings[listings['minimum_nights'] <= 7]\n",
    "merged_df = listings.merge(df_last_12_months, left_on='id', right_on='listing_id', how='inner')\n",
    "merged_df['expected_revenue'] = merged_df['estimated_bookings'] * merged_df['minimum_nights'] * merged_df['price']\n",
    "best_listing = merged_df.loc[merged_df['expected_revenue'].idxmax()]\n",
    "print('task5')\n",
    "print(best_listing['id'])\n",
    "\n"
   ]
  },
  {
   "cell_type": "code",
   "execution_count": 94,
   "metadata": {},
   "outputs": [
    {
     "name": "stdout",
     "output_type": "stream",
     "text": [
      "task6\n",
      "0.32333493329991114\n"
     ]
    }
   ],
   "source": [
    "# task 6 What is the average difference between review scores of superhosts vc normal hosts? Use the 'review_scores_rating' column for determining the average review scores\n",
    "df_listing_super = df_listing.groupby('host_is_superhost')['review_scores_rating'].mean()\n",
    "df_listing_super_avg = abs(df_listing_super[1] - df_listing_super[0])\n",
    "print('task6')\n",
    "print(df_listing_super_avg)\n"
   ]
  },
  {
   "cell_type": "code",
   "execution_count": null,
   "metadata": {},
   "outputs": [
    {
     "name": "stdout",
     "output_type": "stream",
     "text": [
      "host_identity_verified\n"
     ]
    },
    {
     "name": "stderr",
     "output_type": "stream",
     "text": [
      "C:\\Users\\vitor\\AppData\\Local\\Temp\\ipykernel_74076\\3832291567.py:3: SettingWithCopyWarning: \n",
      "A value is trying to be set on a copy of a slice from a DataFrame.\n",
      "Try using .loc[row_indexer,col_indexer] = value instead\n",
      "\n",
      "See the caveats in the documentation: https://pandas.pydata.org/pandas-docs/stable/user_guide/indexing.html#returning-a-view-versus-a-copy\n",
      "  df_hosts_attributes['host_since'] = pd.to_datetime(df_hosts_attributes['host_since'])\n",
      "C:\\Users\\vitor\\AppData\\Local\\Temp\\ipykernel_74076\\3832291567.py:4: SettingWithCopyWarning: \n",
      "A value is trying to be set on a copy of a slice from a DataFrame.\n",
      "Try using .loc[row_indexer,col_indexer] = value instead\n",
      "\n",
      "See the caveats in the documentation: https://pandas.pydata.org/pandas-docs/stable/user_guide/indexing.html#returning-a-view-versus-a-copy\n",
      "  df_hosts_attributes['host_since'] = (pd.Timestamp.today() - df_hosts_attributes['host_since']).dt.days\n",
      "C:\\Users\\vitor\\AppData\\Local\\Temp\\ipykernel_74076\\3832291567.py:5: SettingWithCopyWarning: \n",
      "A value is trying to be set on a copy of a slice from a DataFrame.\n",
      "Try using .loc[row_indexer,col_indexer] = value instead\n",
      "\n",
      "See the caveats in the documentation: https://pandas.pydata.org/pandas-docs/stable/user_guide/indexing.html#returning-a-view-versus-a-copy\n",
      "  df_hosts_attributes['host_identity_verified'] = df_hosts_attributes['host_identity_verified'].map({'t': 1, 'f': 0})\n"
     ]
    }
   ],
   "source": [
    "# task 7 Which host attribute has the second-strogest correlation with the number of reviews of the list? Use the following columns as the host attibutes: 'host_since', 'host_listing_count', 'host_identity_verified', 'calculated_host_listings_count', 'host_is_superhost', 'host_total_listings_count', 'host_is_superhost'. Use the 'number_of_reviews' as the column to find correlation with.\n",
    "df_hosts_attributes = df_listing[['host_since', 'host_listings_count', 'host_identity_verified', 'calculated_host_listings_count', 'host_is_superhost', 'host_total_listings_count', 'number_of_reviews']]\n",
    "df_hosts_attributes['host_since'] = pd.to_datetime(df_hosts_attributes['host_since'])\n",
    "df_hosts_attributes['host_since'] = (pd.Timestamp.today() - df_hosts_attributes['host_since']).dt.days\n",
    "df_hosts_attributes['host_identity_verified'] = df_hosts_attributes['host_identity_verified'].map({'t': 1, 'f': 0})\n",
    "corr = df_hosts_attributes.corr(method='spearman')\n",
    "corr = corr['number_of_reviews'].sort_values(ascending=False)\n",
    "print('task7')\n",
    "print(corr.index[2])"
   ]
  }
 ],
 "metadata": {
  "kernelspec": {
   "display_name": "Python 3",
   "language": "python",
   "name": "python3"
  },
  "language_info": {
   "codemirror_mode": {
    "name": "ipython",
    "version": 3
   },
   "file_extension": ".py",
   "mimetype": "text/x-python",
   "name": "python",
   "nbconvert_exporter": "python",
   "pygments_lexer": "ipython3",
   "version": "3.11.9"
  }
 },
 "nbformat": 4,
 "nbformat_minor": 2
}
